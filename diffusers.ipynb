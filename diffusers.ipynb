{
 "cells": [
  {
   "cell_type": "code",
   "execution_count": null,
   "metadata": {
    "collapsed": true,
    "id": "Lv-9FPGChcgh"
   },
   "outputs": [],
   "source": [
    "!nvidia-smi"
   ]
  },
  {
   "cell_type": "code",
   "execution_count": null,
   "metadata": {
    "collapsed": true,
    "id": "4DahWshjir5t"
   },
   "outputs": [],
   "source": [
    "!pip install -r \"./requirements.txt\""
   ]
  },
  {
   "cell_type": "code",
   "execution_count": null,
   "metadata": {
    "id": "2EhRz1C5jOlo"
   },
   "outputs": [],
   "source": [
    "import torch\n",
    "import numpy as np\n",
    "import cv2\n",
    "\n",
    "from torchvision import transforms\n",
    "from huggingface_hub import login\n",
    "\n",
    "from diffusers import StableDiffusionControlNetPipeline, ControlNetModel, StableDiffusionPipeline, StableDiffusionImg2ImgPipeline, UniPCMultistepScheduler\n",
    "from PIL import Image\n",
    "from safetensors import safe_open"
   ]
  },
  {
   "cell_type": "code",
   "execution_count": null,
   "metadata": {
    "id": "KvyLdHzcjWBB"
   },
   "outputs": [],
   "source": [
    "login()"
   ]
  },
  {
   "cell_type": "code",
   "execution_count": null,
   "metadata": {
    "id": "vRAo05STjZAP"
   },
   "outputs": [],
   "source": [
    "if torch.cuda.is_available():\n",
    "    device_name = torch.device(\"cuda\")\n",
    "    torch_dtype = torch.float16\n",
    "    print(\"Using CUDA\")\n",
    "else:\n",
    "    device_name = torch.device(\"cpu\")\n",
    "    torch_dtype = torch.float32\n",
    "    print(\"Using CPU\")"
   ]
  },
  {
   "cell_type": "code",
   "execution_count": null,
   "metadata": {
    "id": "7Pl-XB-3jcVt"
   },
   "outputs": [],
   "source": [
    "class LocalModel:\n",
    "    def __init__(self, local_path:str, base_model:str, controlnet_seg_model:str, controlnet_dep_model:str, controlnet_edg_model:str) -> None:\n",
    "        self.local_path = local_path\n",
    "        self.base_model = base_model\n",
    "        self.controlnet_seg_model = controlnet_seg_model\n",
    "        self.controlnet_dep_model = controlnet_dep_model\n",
    "        self.controlnet_edg_model = controlnet_edg_model"
   ]
  },
  {
   "cell_type": "code",
   "execution_count": null,
   "metadata": {
    "id": "ChS5uh65jleD"
   },
   "outputs": [],
   "source": [
    "base_path = \"./safetensors/{}\"\n",
    "\n",
    "model_1 = LocalModel(\n",
    "  local_path=base_path.format(\"A bird's-eye view of architecture.safetensors\"),\n",
    "  base_model=\"runwayml/stable-diffusion-v1-5\",\n",
    "  controlnet_seg_model=\"lllyasviel/control_v11p_sd15_seg\",\n",
    "  controlnet_dep_model=\"lllyasviel/control_v11f1p_sd15_depth\",\n",
    "  controlnet_edg_model=\"lllyasviel/control_v11p_sd15_canny\"\n",
    ")\n",
    "model_2 = LocalModel(\n",
    "  local_path=base_path.format(\"AARG_aerial-000018.safetensors\"),\n",
    "  base_model=\"runwayml/stable-diffusion-v1-5\",\n",
    "  controlnet_seg_model=\"lllyasviel/control_v11p_sd15_seg\",\n",
    "  controlnet_dep_model=\"lllyasviel/control_v11f1p_sd15_depth\",\n",
    "  controlnet_edg_model=\"lllyasviel/control_v11p_sd15_canny\"\n",
    ")\n",
    "model_3 = LocalModel(\n",
    "  local_path=base_path.format(\"aerial view-V2.safetensors\"),\n",
    "  base_model=\"runwayml/stable-diffusion-v1-5\",\n",
    "  controlnet_seg_model=\"lllyasviel/control_v11p_sd15_seg\",\n",
    "  controlnet_dep_model=\"lllyasviel/control_v11f1p_sd15_depth\",\n",
    "  controlnet_edg_model=\"lllyasviel/control_v11p_sd15_canny\"\n",
    ")\n",
    "model_4 = LocalModel(\n",
    "  local_path=base_path.format(\"FLUXD-Style-Urban_Jungles-urjungle.safetensors\"),\n",
    "  base_model=\"black-forest-labs/FLUX.1-dev\",\n",
    "  controlnet_seg_model=\"lllyasviel/control_v11p_sd15_seg\",\n",
    "  controlnet_dep_model=\"lllyasviel/control_v11f1p_sd15_depth\",\n",
    "  controlnet_edg_model=\"lllyasviel/control_v11p_sd15_canny\"\n",
    ")"
   ]
  },
  {
   "cell_type": "code",
   "execution_count": null,
   "metadata": {
    "collapsed": true,
    "id": "EchTuFekjsRR"
   },
   "outputs": [],
   "source": [
    "# https://docs.google.com/spreadsheets/d/1se8YEtb2detS7OuPE86fXGyD269pMycAWe2mtKUj2W8/edit?gid=0#gid=0\n",
    "# ADE20K Class -> Roads -> #8C8C8C\n",
    "# ADE20K Class -> Buildings -> #B47878\n",
    "# ADE20K Class -> Grass -> #04FA07\n",
    "# ADE20K Class -> Water -> #3DE6FA\n",
    "# ADE20K Class -> Sidewalk -> #EBFF07\n",
    "# ADE20K Class -> Sky -> #06E6E6\n",
    "\n",
    "\n",
    "# Local\n",
    "model = model_3\n",
    "\n",
    "controlnet_depth = ControlNetModel.from_pretrained(\n",
    "    model.controlnet_dep_model, torch_dtype=torch_dtype\n",
    ").to(device_name)\n",
    "controlnet_seg = ControlNetModel.from_pretrained(\n",
    "    model.controlnet_seg_model, torch_dtype=torch_dtype\n",
    ").to(device_name)\n",
    "controlnet_edge = ControlNetModel.from_pretrained(\n",
    "    model.controlnet_edg_model, torch_dtype=torch_dtype\n",
    ").to(device_name)\n",
    "\n",
    "pipe = StableDiffusionControlNetPipeline.from_pretrained(\n",
    "    model.base_model,\n",
    "    controlnet=[controlnet_depth, controlnet_seg, controlnet_edge],\n",
    "    torch_dtype=torch_dtype\n",
    ").to(device_name)\n",
    "pipe.load_lora_weights(model.local_path)\n",
    "pipe.fuse_lora()\n",
    "\n",
    "pipe.scheduler = UniPCMultistepScheduler.from_config(pipe.scheduler.config)\n",
    "\n",
    "# HF\n",
    "# controlnet_depth = ControlNetModel.from_pretrained(\n",
    "#     \"lllyasviel/control_v11f1p_sd15_depth\", torch_dtype=torch_dtype\n",
    "# ).to(device_name)\n",
    "# controlnet_seg = ControlNetModel.from_pretrained(\n",
    "#     \"lllyasviel/control_v11p_sd15_seg\", torch_dtype=torch_dtype\n",
    "# ).to(device_name)\n",
    "\n",
    "# pipe = StableDiffusionControlNetPipeline.from_pretrained(\n",
    "#     \"runwayml/stable-diffusion-v1-5\", controlnet=[controlnet_depth, controlnet_seg], torch_dtype=torch_dtype,\n",
    "#     use_auth_token=True\n",
    "# ).to(device_name)\n",
    "\n",
    "# from diffusers import StableDiffusion3Pipeline\n",
    "\n",
    "# pipe = StableDiffusion3Pipeline.from_pretrained(\n",
    "#     \"stabilityai/stable-diffusion-3.5-large-turbo\", torch_dtype=torch_dtype\n",
    "# ).to(device_name)"
   ]
  },
  {
   "cell_type": "code",
   "execution_count": null,
   "metadata": {
    "id": "6i1V2u3D0Exu"
   },
   "outputs": [],
   "source": [
    "image_ade20k = \"./images/mapa_ADE20K_FIX.png\"\n",
    "image_depth = \"./images/mapa_DEPTH_FIX.png\"\n",
    "image_real = \"./images/mapa_REALISTIC.png\"\n",
    "image_edge = \"./images/mapa_EDGE.png\""
   ]
  },
  {
   "cell_type": "code",
   "execution_count": null,
   "metadata": {
    "id": "HW4RvkL_3wTq"
   },
   "outputs": [],
   "source": [
    "def load_image(image_path, size=(512, 512)):\n",
    "    image = cv2.imread(image_path, cv2.IMREAD_UNCHANGED)\n",
    "    image = cv2.cvtColor(image, cv2.COLOR_BGR2RGB)  # Convert to RGB\n",
    "    image = cv2.resize(image, size)\n",
    "    image = Image.fromarray(image)\n",
    "    return image"
   ]
  },
  {
   "cell_type": "code",
   "execution_count": null,
   "metadata": {
    "id": "KJa_boTc33OO"
   },
   "outputs": [],
   "source": [
    "base_image = load_image(image_real)\n",
    "depth_map = load_image(image_depth)\n",
    "seg_map = load_image(image_ade20k)\n",
    "edge_map = load_image(image_edge)\n",
    "\n",
    "# Convert images to tensors\n",
    "transform = transforms.ToTensor()\n",
    "depth_tensor = transform(depth_map).unsqueeze(0)\n",
    "seg_tensor = transform(seg_map).unsqueeze(0)\n",
    "edge_tensor = transform(edge_map).unsqueeze(0)"
   ]
  },
  {
   "cell_type": "code",
   "execution_count": null,
   "metadata": {
    "id": "Gp9Am8C6kb6O"
   },
   "outputs": [],
   "source": [
    "prompt = \"A realistic aerial view from a city\"\n",
    "negative_prompt = \"blurry, low resolution, unrealistic, distorted\"\n",
    "num_images = 1"
   ]
  },
  {
   "cell_type": "markdown",
   "metadata": {
    "id": "t3UHkPI86J_-"
   },
   "source": [
    "# CONTROLNET"
   ]
  },
  {
   "cell_type": "code",
   "execution_count": null,
   "metadata": {
    "id": "i-CGqgiJkj5u"
   },
   "outputs": [],
   "source": [
    "output = pipe(\n",
    "    prompt=prompt,\n",
    "    negative_prompt=negative_prompt,\n",
    "    image=[depth_tensor, seg_tensor, edge_tensor],\n",
    "    num_inference_steps=25,\n",
    "    strength=0.00001,\n",
    "    guidance_scale=0.00001,\n",
    "    controlnet_conditioning_scale=[1.0, 1.0, 1.0],\n",
    ")"
   ]
  },
  {
   "cell_type": "code",
   "execution_count": null,
   "metadata": {
    "id": "ocMYrouXkpQD"
   },
   "outputs": [],
   "source": [
    "output.images[0]"
   ]
  },
  {
   "cell_type": "markdown",
   "metadata": {
    "id": "qiF4kBYz6He9"
   },
   "source": [
    "# IMG 2 IMG"
   ]
  },
  {
   "cell_type": "code",
   "execution_count": null,
   "metadata": {
    "id": "PUi3OI1p5sbn"
   },
   "outputs": [],
   "source": [
    "pipe = StableDiffusionImg2ImgPipeline.from_pretrained(\n",
    "    \"runwayml/stable-diffusion-v1-5\", torch_dtype=torch_dtype\n",
    ").to(\"cuda\")"
   ]
  },
  {
   "cell_type": "code",
   "execution_count": null,
   "metadata": {
    "id": "lssPIFYE59Pf"
   },
   "outputs": [],
   "source": [
    "output = pipe(\n",
    "    prompt=prompt,\n",
    "    negative_prompt=negative_prompt,\n",
    "    image=base_image,\n",
    "    strength=0.2,  # Controls how much the image should change (0 = minor edits, 1 = full generation)\n",
    "    guidance_scale=1,  # Higher values enforce the prompt more\n",
    "    num_inference_steps=50,\n",
    ")"
   ]
  },
  {
   "cell_type": "code",
   "execution_count": null,
   "metadata": {
    "id": "NLuq3L616OIT"
   },
   "outputs": [],
   "source": [
    "output.images[0]"
   ]
  },
  {
   "cell_type": "code",
   "execution_count": null,
   "metadata": {
    "id": "yqeIGydj6Zvz"
   },
   "outputs": [],
   "source": []
  }
 ],
 "metadata": {
  "accelerator": "TPU",
  "colab": {
   "authorship_tag": "ABX9TyMa8BuJkRPcEK148FZWaxED",
   "gpuType": "V28",
   "mount_file_id": "1QHclnfiLV_sT2F0jLRip0oSyhbhgf2bR",
   "provenance": []
  },
  "kernelspec": {
   "display_name": "Python 3",
   "name": "python3"
  },
  "language_info": {
   "name": "python"
  }
 },
 "nbformat": 4,
 "nbformat_minor": 0
}
