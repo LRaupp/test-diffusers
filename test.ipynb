{
 "cells": [
  {
   "cell_type": "markdown",
   "metadata": {},
   "source": [
    "#### Setup inicial"
   ]
  },
  {
   "cell_type": "code",
   "execution_count": null,
   "metadata": {},
   "outputs": [],
   "source": [
    "!pip install -r \"./requirements.txt\""
   ]
  },
  {
   "cell_type": "code",
   "execution_count": null,
   "metadata": {},
   "outputs": [],
   "source": [
    "import os \n",
    "from huggingface_hub import login\n",
    "\n",
    "wkdir = \"C:\\\\Users\\\\PLC03\\\\Documents\\\\Git\\\\test-diffusers\"\n",
    "os.chdir(wkdir)\n",
    "\n",
    "image_ade20k = f\"{wkdir}/images/mapa_ADE20K_FIX.png\"\n",
    "image_depth = f\"{wkdir}/images/mapa_DEPTH_FIX.png\"\n",
    "image_real = f\"{wkdir}/images/mapa_REALISTIC.png\"\n",
    "image_edge = f\"{wkdir}/images/mapa_EDGE.png\"\n",
    "\n",
    "login()"
   ]
  },
  {
   "cell_type": "code",
   "execution_count": null,
   "metadata": {},
   "outputs": [],
   "source": [
    "import models as M\n",
    "from utils import preprocess_image"
   ]
  },
  {
   "cell_type": "markdown",
   "metadata": {},
   "source": [
    "#### Prompt base"
   ]
  },
  {
   "cell_type": "code",
   "execution_count": null,
   "metadata": {},
   "outputs": [],
   "source": [
    "prompt = \"\"\"Ultra-realistic aerial view of a modern city, captured from a high-resolution satellite or drone. Skyscrapers, residential areas, roads, and parks are detailed and proportional, with natural lighting and depth. No distortions, warped buildings, or AI artifacts. Clear atmosphere with soft haze near the horizon.\"\"\"\n",
    "negative_prompt = \"Distorted buildings, warped roads, AI artifacts, unnatural lighting, low detail, fisheye effect.\"\n",
    "num_images = 1"
   ]
  },
  {
   "cell_type": "code",
   "execution_count": null,
   "metadata": {},
   "outputs": [],
   "source": [
    "tensor_size = (768, 576)\n",
    "tensor_ade20k = preprocess_image(image_ade20k, tensor_size)\n",
    "tensor_depth = preprocess_image(image_depth, tensor_size)\n",
    "tensor_real = preprocess_image(image_real, tensor_size)\n",
    "tensor_edge = preprocess_image(image_edge, tensor_size)"
   ]
  },
  {
   "cell_type": "markdown",
   "metadata": {},
   "source": [
    "#### Realistic Vision V2 + ControlNet"
   ]
  },
  {
   "cell_type": "code",
   "execution_count": null,
   "metadata": {},
   "outputs": [],
   "source": [
    "diffuser = M.PlaceDiffusionModel(\n",
    "    base_diffusion_model=M.RealisticVisionV2,\n",
    "    controlnet_images=(\n",
    "        (tensor_ade20k, M.ControlModes.segment), \n",
    "        (tensor_depth, M.ControlModes.depth),\n",
    "        (tensor_real, M.ControlModes.tile),\n",
    "        (tensor_edge, M.ControlModes.canny)\n",
    "    )\n",
    ")"
   ]
  },
  {
   "cell_type": "code",
   "execution_count": null,
   "metadata": {},
   "outputs": [],
   "source": [
    "pipe = diffuser.pipeline"
   ]
  }
 ],
 "metadata": {
  "kernelspec": {
   "display_name": "venv",
   "language": "python",
   "name": "python3"
  },
  "language_info": {
   "codemirror_mode": {
    "name": "ipython",
    "version": 3
   },
   "file_extension": ".py",
   "mimetype": "text/x-python",
   "name": "python",
   "nbconvert_exporter": "python",
   "pygments_lexer": "ipython3",
   "version": "3.12.8"
  }
 },
 "nbformat": 4,
 "nbformat_minor": 2
}
