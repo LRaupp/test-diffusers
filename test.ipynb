{
  "cells": [
    {
      "cell_type": "markdown",
      "metadata": {
        "id": "6Z4vG3e7_MZ-"
      },
      "source": [
        "#### Setup inicial"
      ]
    },
    {
      "cell_type": "code",
      "source": [
        "!git clone https://github.com/LRaupp/test-diffusers.git"
      ],
      "metadata": {
        "id": "WVUu_lgluMu4"
      },
      "execution_count": null,
      "outputs": []
    },
    {
      "cell_type": "code",
      "execution_count": null,
      "metadata": {
        "id": "ysStCsAN_MaA",
        "collapsed": true
      },
      "outputs": [],
      "source": [
        "!pip install -r \"./requirements.txt\""
      ]
    },
    {
      "cell_type": "code",
      "execution_count": null,
      "metadata": {
        "id": "BuvMIBsm_MaB"
      },
      "outputs": [],
      "source": [
        "import os\n",
        "from huggingface_hub import login\n",
        "\n",
        "wkdir = \"/content/test-diffusers\"\n",
        "os.chdir(wkdir)\n",
        "\n",
        "image_ade20k = f\"{wkdir}/images/mapa_ADE20k_FIX.png\"\n",
        "image_depth = f\"{wkdir}/images/mapa_DEPTH_FIX.png\"\n",
        "image_real = f\"{wkdir}/images/mapa_REALISTIC.png\"\n",
        "image_edge = f\"{wkdir}/images/mapa_EDGE_FIX.png\""
      ]
    },
    {
      "cell_type": "code",
      "source": [
        "login()"
      ],
      "metadata": {
        "id": "RQav7fYdLyj9"
      },
      "execution_count": null,
      "outputs": []
    },
    {
      "cell_type": "code",
      "execution_count": null,
      "metadata": {
        "id": "HTOsvMrd_MaB"
      },
      "outputs": [],
      "source": [
        "import models as M\n",
        "import torch\n",
        "from compel import Compel\n",
        "\n",
        "from utils import preprocess_image"
      ]
    },
    {
      "cell_type": "markdown",
      "metadata": {
        "id": "Fx93eZFN_MaC"
      },
      "source": [
        "#### Prompt base"
      ]
    },
    {
      "cell_type": "code",
      "execution_count": null,
      "metadata": {
        "id": "kAEd9-7y_MaD"
      },
      "outputs": [],
      "source": [
        "prompt = \"\"\"Ultra-realistic aerial view of a modern city, captured from a high-resolution satellite or drone. Buildings, residential areas, roads, and parks are detailed and proportional, with natural lighting and depth. Clear atmosphere with soft haze near the horizon.\"\"\"\n",
        "negative_prompt = \"Distorted buildings, warped roads, AI artifacts, unnatural lighting, low detail, fisheye effect.\"\n",
        "num_images = 1\n",
        "\n",
        "prompts = [prompt]* num_images\n",
        "negative_prompts = [negative_prompt]* num_images"
      ]
    },
    {
      "cell_type": "code",
      "execution_count": null,
      "metadata": {
        "id": "ieD5p8Ge_MaE"
      },
      "outputs": [],
      "source": [
        "tensor_size = (768, 576)\n",
        "segment_tensor = preprocess_image(image_ade20k, tensor_size)\n",
        "depth_tensor = preprocess_image(image_depth, tensor_size)\n",
        "tile_tensor = preprocess_image(image_real, tensor_size)\n",
        "canny_tensor = preprocess_image(image_edge, tensor_size)"
      ]
    },
    {
      "cell_type": "markdown",
      "metadata": {
        "id": "6VLqUdUI_MaE"
      },
      "source": [
        "#### Realistic Vision V2 + ControlNet"
      ]
    },
    {
      "cell_type": "code",
      "execution_count": null,
      "metadata": {
        "id": "LDNObXcK_MaF"
      },
      "outputs": [],
      "source": [
        "diffuser = M.PlaceDiffusionModel(\n",
        "    base_diffusion_model=M.RealisticVisionV2,\n",
        "    controlnet_images=(\n",
        "        (segment_tensor, M.ControlModes.segment),\n",
        "        (depth_tensor, M.ControlModes.depth),\n",
        "        (canny_tensor, M.ControlModes.canny)\n",
        "    )\n",
        ")"
      ]
    },
    {
      "cell_type": "code",
      "execution_count": null,
      "metadata": {
        "id": "V9HjMoiP_MaG",
        "collapsed": true
      },
      "outputs": [],
      "source": [
        "pipe = diffuser.pipeline"
      ]
    },
    {
      "cell_type": "code",
      "source": [
        "output = pipe(\n",
        "    prompt=prompts,\n",
        "    negative_prompt=negative_prompts,\n",
        "    image=diffuser.control_ref_images,\n",
        "    num_inference_steps=50,\n",
        "    guidance_scale=6,\n",
        "    controlnet_conditioning_scale=[1.0, 1.0, 1.0],\n",
        "    weight=0.25\n",
        ")\n",
        "\n",
        "output.images[0]"
      ],
      "metadata": {
        "id": "sIxdRowh2WXd"
      },
      "execution_count": null,
      "outputs": []
    },
    {
      "cell_type": "markdown",
      "metadata": {
        "id": "ZZg0wU5g_MaG"
      },
      "source": [
        "#### Realistic Vision V3 + ControlNet (Não foi possível executar por falta de Hardware)"
      ]
    },
    {
      "cell_type": "code",
      "execution_count": null,
      "metadata": {
        "id": "lfU23C2c_MaG"
      },
      "outputs": [],
      "source": [
        "diffuser = M.PlaceDiffusionModel(\n",
        "    base_diffusion_model=M.RealisticVisionV3,\n",
        "    controlnet_images=(\n",
        "        (segment_tensor, M.ControlModes.segment),\n",
        "        (depth_tensor, M.ControlModes.depth),\n",
        "        (canny_tensor, M.ControlModes.canny)\n",
        "    ),\n",
        "    use_dpm_scheduler=False # Incompativel com o modelo\n",
        ")"
      ]
    },
    {
      "cell_type": "code",
      "execution_count": null,
      "metadata": {
        "id": "FiCJcCOk_MaG"
      },
      "outputs": [],
      "source": [
        "pipe = diffuser.pipeline"
      ]
    },
    {
      "cell_type": "code",
      "execution_count": null,
      "metadata": {
        "id": "j7cISrG5_MaH"
      },
      "outputs": [],
      "source": [
        "output = pipe(\n",
        "    prompt=prompts,\n",
        "    negative_prompt=negative_prompts,\n",
        "    image=diffuser.control_ref_images,\n",
        "    num_inference_steps=50,\n",
        "    guidance_scale=7.5,\n",
        "    controlnet_conditioning_scale=[0.7, 0.9, 1.0],\n",
        ")\n",
        "\n",
        "output.images[0]"
      ]
    },
    {
      "cell_type": "markdown",
      "metadata": {
        "id": "VumMYITz_MaH"
      },
      "source": [
        "#### LoRa (JZCGXL026) + ControlNet (Não foi possível executar por incompatibilidade com ControlNet)\n",
        "\n"
      ]
    },
    {
      "cell_type": "code",
      "execution_count": null,
      "metadata": {
        "id": "a0wvFF6h_MaH"
      },
      "outputs": [],
      "source": [
        "diffuser = M.PlaceDiffusionModel(\n",
        "    lora_model=M.JZCGXL026(base_local_path=\"./safetensors\"),\n",
        "    controlnet_images=(\n",
        "        (segment_tensor, M.ControlModes.segment),\n",
        "        (depth_tensor, M.ControlModes.depth),\n",
        "        (canny_tensor, M.ControlModes.canny)\n",
        "    )\n",
        ")"
      ]
    },
    {
      "cell_type": "code",
      "execution_count": null,
      "metadata": {
        "id": "2iG3dJVq_MaH"
      },
      "outputs": [],
      "source": [
        "pipe = diffuser.pipeline"
      ]
    },
    {
      "cell_type": "code",
      "execution_count": null,
      "metadata": {
        "id": "8LRuQIGD_MaH"
      },
      "outputs": [],
      "source": [
        "output = pipe(\n",
        "    prompt=prompts,\n",
        "    negative_prompt=negative_prompts,\n",
        "    image=diffuser.control_ref_images,\n",
        "    num_inference_steps=50,\n",
        "    guidance_scale=7.5,\n",
        "    controlnet_conditioning_scale=[0.7, 0.9, 1.0],\n",
        ")\n",
        "\n",
        "output.images[0]"
      ]
    },
    {
      "cell_type": "markdown",
      "source": [
        "#### LoRa (ABirdsEyeViewOfArchitectureV1) + ControlNet"
      ],
      "metadata": {
        "id": "HKMv2JgHGuy_"
      }
    },
    {
      "cell_type": "code",
      "source": [
        "diffuser = M.PlaceDiffusionModel(\n",
        "    lora_model=M.ABirdsEyeViewOfArchitectureV1(base_local_path=\"/content/safetensors/\"),\n",
        "    controlnet_images=(\n",
        "        (segment_tensor, M.ControlModes.segment),\n",
        "        (depth_tensor, M.ControlModes.depth),\n",
        "        (canny_tensor, M.ControlModes.canny)\n",
        "    )\n",
        ")"
      ],
      "metadata": {
        "id": "62vCNORbG09d"
      },
      "execution_count": null,
      "outputs": []
    },
    {
      "cell_type": "code",
      "source": [
        "pipe = diffuser.pipeline"
      ],
      "metadata": {
        "id": "4hrjLWC9IMnY"
      },
      "execution_count": null,
      "outputs": []
    },
    {
      "cell_type": "code",
      "source": [
        "output = pipe(\n",
        "    prompt=prompts,\n",
        "    negative_prompt=negative_prompts,\n",
        "    image=diffuser.control_ref_images,\n",
        "    num_inference_steps=50,\n",
        "    guidance_scale=7.5,\n",
        "    controlnet_conditioning_scale=[0.7, 0.9, 1.0],\n",
        ")\n",
        "\n",
        "output.images[0]"
      ],
      "metadata": {
        "id": "fAbc_q-cPHhj"
      },
      "execution_count": null,
      "outputs": []
    },
    {
      "cell_type": "markdown",
      "source": [
        "#### LoRa (JZCG005RealisticCityPhotography) + ControlNet"
      ],
      "metadata": {
        "id": "73v0TeNOJN5r"
      }
    },
    {
      "cell_type": "code",
      "source": [
        "diffuser = M.PlaceDiffusionModel(\n",
        "    lora_model=M.JZCG005RealisticCityPhotography(base_local_path=\"/content/safetensors/\"),\n",
        "    controlnet_images=(\n",
        "        (segment_tensor, M.ControlModes.segment),\n",
        "        (depth_tensor, M.ControlModes.depth),\n",
        "        (canny_tensor, M.ControlModes.canny)\n",
        "    )\n",
        ")"
      ],
      "metadata": {
        "id": "_TaH19z2JTHS"
      },
      "execution_count": null,
      "outputs": []
    },
    {
      "cell_type": "code",
      "source": [
        "pipe = diffuser.pipeline"
      ],
      "metadata": {
        "id": "l21BLdKUJci7"
      },
      "execution_count": null,
      "outputs": []
    },
    {
      "cell_type": "code",
      "source": [
        "output = pipe(\n",
        "    prompt=prompts,\n",
        "    negative_prompt=negative_prompts,\n",
        "    image=diffuser.control_ref_images,\n",
        "    num_inference_steps=50,\n",
        "    guidance_scale=5,\n",
        "    controlnet_conditioning_scale=[1.0, 0.9, 1.0],\n",
        "    weight=1\n",
        ")\n",
        "\n",
        "output.images[0]"
      ],
      "metadata": {
        "id": "JPFyoDS7Jd9D"
      },
      "execution_count": null,
      "outputs": []
    },
    {
      "cell_type": "markdown",
      "source": [
        "#### SDXL V1 + ControlNet"
      ],
      "metadata": {
        "id": "GIkGaGxMREqp"
      }
    },
    {
      "cell_type": "code",
      "source": [
        "diffuser = M.PlaceDiffusionModel(\n",
        "    base_diffusion_model=M.SDXL1,\n",
        "    vae_model=\"madebyollin/sdxl-vae-fp16-fix\",\n",
        "    controlnet_images=(\n",
        "        (0, M.ControlModes.openpose),\n",
        "        (depth_tensor, M.ControlModes.depth),\n",
        "        (0, M.ControlModes.hed),\n",
        "        (canny_tensor, M.ControlModes.canny),\n",
        "        (0, M.ControlModes.normal),\n",
        "        (segment_tensor, M.ControlModes.segment),\n",
        "    )\n",
        ")"
      ],
      "metadata": {
        "id": "Qx9CSwXyPvZV"
      },
      "execution_count": null,
      "outputs": []
    },
    {
      "cell_type": "code",
      "source": [
        "pipe = diffuser.pipeline"
      ],
      "metadata": {
        "id": "KiJc9utiSgAL"
      },
      "execution_count": null,
      "outputs": []
    },
    {
      "cell_type": "code",
      "source": [
        "output = pipe(\n",
        "    prompt=prompts,\n",
        "    negative_prompt=negative_prompts,\n",
        "    image=diffuser.control_ref_images,\n",
        "    num_inference_steps=50,\n",
        "    guidance_scale=5,\n",
        "    union_control=True,\n",
        "    union_control_type=torch.Tensor([0, 1, 0, 1, 0, 1]),\n",
        "    weight=1\n",
        ")\n",
        "\n",
        "output.images[0]"
      ],
      "metadata": {
        "id": "8ix63NQOSiLv"
      },
      "execution_count": null,
      "outputs": []
    },
    {
      "cell_type": "code",
      "source": [],
      "metadata": {
        "id": "Rj3Rqn20TBMs"
      },
      "execution_count": null,
      "outputs": []
    }
  ],
  "metadata": {
    "kernelspec": {
      "display_name": "Python 3",
      "name": "python3"
    },
    "language_info": {
      "codemirror_mode": {
        "name": "ipython",
        "version": 3
      },
      "file_extension": ".py",
      "mimetype": "text/x-python",
      "name": "python",
      "nbconvert_exporter": "python",
      "pygments_lexer": "ipython3",
      "version": "3.12.8"
    },
    "colab": {
      "provenance": [],
      "gpuType": "T4"
    },
    "accelerator": "GPU"
  },
  "nbformat": 4,
  "nbformat_minor": 0
}