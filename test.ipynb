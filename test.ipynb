{
 "cells": [
  {
   "cell_type": "markdown",
   "metadata": {},
   "source": [
    "#### Setup inicial"
   ]
  },
  {
   "cell_type": "code",
   "execution_count": null,
   "metadata": {},
   "outputs": [],
   "source": [
    "!pip install -r \"./requirements.txt\""
   ]
  },
  {
   "cell_type": "code",
   "execution_count": null,
   "metadata": {},
   "outputs": [],
   "source": [
    "import os \n",
    "from huggingface_hub import login\n",
    "\n",
    "wkdir = \"C:\\\\Users\\\\PLC03\\\\Documents\\\\Git\\\\test-diffusers\"\n",
    "os.chdir(wkdir)\n",
    "\n",
    "image_ade20k = f\"{wkdir}/images/mapa_ADE20K_FIX.png\"\n",
    "image_depth = f\"{wkdir}/images/mapa_DEPTH_FIX.png\"\n",
    "image_real = f\"{wkdir}/images/mapa_REALISTIC.png\"\n",
    "image_edge = f\"{wkdir}/images/mapa_EDGE.png\"\n",
    "\n",
    "login()"
   ]
  },
  {
   "cell_type": "code",
   "execution_count": null,
   "metadata": {},
   "outputs": [],
   "source": [
    "import models as M\n",
    "from utils import preprocess_image"
   ]
  },
  {
   "cell_type": "markdown",
   "metadata": {},
   "source": [
    "#### Prompt base"
   ]
  },
  {
   "cell_type": "code",
   "execution_count": null,
   "metadata": {},
   "outputs": [],
   "source": [
    "prompt = \"\"\"Ultra-realistic aerial view of a modern city, captured from a high-resolution satellite or drone. Buildings, residential areas, roads, and parks are detailed and proportional, with natural lighting and depth. Clear atmosphere with soft haze near the horizon.\"\"\"\n",
    "negative_prompt = \"Distorted buildings, warped roads, AI artifacts, unnatural lighting, low detail, fisheye effect.\"\n",
    "num_images = 1\n",
    "\n",
    "prompts = [prompt]* num_images\n",
    "negative_prompts = [negative_prompt]* num_images"
   ]
  },
  {
   "cell_type": "code",
   "execution_count": null,
   "metadata": {},
   "outputs": [],
   "source": [
    "tensor_size = (768, 576)\n",
    "segment_tensor = preprocess_image(image_ade20k, tensor_size)\n",
    "depth_tensor = preprocess_image(image_depth, tensor_size)\n",
    "tile_tensor = preprocess_image(image_real, tensor_size)\n",
    "canny_tensor = preprocess_image(image_edge, tensor_size)"
   ]
  },
  {
   "cell_type": "markdown",
   "metadata": {},
   "source": [
    "#### Realistic Vision V2 + ControlNet"
   ]
  },
  {
   "cell_type": "code",
   "execution_count": null,
   "metadata": {},
   "outputs": [],
   "source": [
    "diffuser = M.PlaceDiffusionModel(\n",
    "    base_diffusion_model=M.RealisticVisionV2,\n",
    "    controlnet_images=(\n",
    "        (segment_tensor, M.ControlModes.segment), \n",
    "        (depth_tensor, M.ControlModes.depth),\n",
    "        (canny_tensor, M.ControlModes.canny)\n",
    "    )\n",
    ")"
   ]
  },
  {
   "cell_type": "code",
   "execution_count": null,
   "metadata": {},
   "outputs": [],
   "source": [
    "pipe = diffuser.pipeline"
   ]
  },
  {
   "cell_type": "markdown",
   "metadata": {},
   "source": [
    "#### Realistic Vision V3 + ControlNet"
   ]
  },
  {
   "cell_type": "code",
   "execution_count": null,
   "metadata": {},
   "outputs": [],
   "source": [
    "diffuser = M.PlaceDiffusionModel(\n",
    "    base_diffusion_model=M.RealisticVisionV3,\n",
    "    controlnet_images=(\n",
    "        (segment_tensor, M.ControlModes.segment),\n",
    "        (depth_tensor, M.ControlModes.depth),\n",
    "        (canny_tensor, M.ControlModes.canny)\n",
    "    ),\n",
    "    use_dpm_scheduler=False # Incompativel com o modelo\n",
    ")"
   ]
  },
  {
   "cell_type": "code",
   "execution_count": null,
   "metadata": {},
   "outputs": [],
   "source": [
    "pipe = diffuser.pipeline"
   ]
  },
  {
   "cell_type": "code",
   "execution_count": null,
   "metadata": {},
   "outputs": [],
   "source": [
    "output = pipe(\n",
    "    prompt=prompts,\n",
    "    negative_prompt=negative_prompts,\n",
    "    image=diffuser.control_ref_images,\n",
    "    num_inference_steps=50,\n",
    "    guidance_scale=7.5,\n",
    "    controlnet_conditioning_scale=[0.7, 0.9, 1.0],\n",
    ")\n",
    "\n",
    "output.images[0]"
   ]
  },
  {
   "cell_type": "markdown",
   "metadata": {},
   "source": [
    "#### LoRa (JZCGXL026) + ControlNet"
   ]
  },
  {
   "cell_type": "code",
   "execution_count": null,
   "metadata": {},
   "outputs": [],
   "source": [
    "diffuser = M.PlaceDiffusionModel(\n",
    "    lora_model=M.JZCGXL026(base_local_path=\"./safetensors\"),\n",
    "    controlnet_images=(\n",
    "        (segment_tensor, M.ControlModes.segment), \n",
    "        (depth_tensor, M.ControlModes.depth),\n",
    "        (canny_tensor, M.ControlModes.canny)\n",
    "    )\n",
    ")"
   ]
  },
  {
   "cell_type": "code",
   "execution_count": null,
   "metadata": {},
   "outputs": [],
   "source": [
    "pipe = diffuser.pipeline"
   ]
  },
  {
   "cell_type": "code",
   "execution_count": null,
   "metadata": {},
   "outputs": [],
   "source": [
    "output = pipe(\n",
    "    prompt=prompts,\n",
    "    negative_prompt=negative_prompts,\n",
    "    image=diffuser.control_ref_images,\n",
    "    num_inference_steps=50,\n",
    "    guidance_scale=7.5,\n",
    "    controlnet_conditioning_scale=[0.7, 0.9, 1.0],\n",
    ")\n",
    "\n",
    "output.images[0]"
   ]
  }
 ],
 "metadata": {
  "kernelspec": {
   "display_name": "venv",
   "language": "python",
   "name": "python3"
  },
  "language_info": {
   "codemirror_mode": {
    "name": "ipython",
    "version": 3
   },
   "file_extension": ".py",
   "mimetype": "text/x-python",
   "name": "python",
   "nbconvert_exporter": "python",
   "pygments_lexer": "ipython3",
   "version": "3.12.8"
  }
 },
 "nbformat": 4,
 "nbformat_minor": 2
}
